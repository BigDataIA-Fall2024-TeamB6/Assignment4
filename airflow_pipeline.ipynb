{
 "cells": [
  {
   "cell_type": "code",
   "execution_count": 7,
   "id": "85f7c7bf-b45c-4309-a4f0-f464700db0f6",
   "metadata": {},
   "outputs": [
    {
     "name": "stdout",
     "output_type": "stream",
     "text": [
      "Collecting diagrams\n",
      "  Downloading diagrams-0.24.1-py3-none-any.whl.metadata (6.9 kB)\n",
      "Collecting graphviz<0.21.0,>=0.13.2 (from diagrams)\n",
      "  Downloading graphviz-0.20.3-py3-none-any.whl.metadata (12 kB)\n",
      "Requirement already satisfied: jinja2<4.0,>=2.10 in /opt/anaconda3/lib/python3.12/site-packages (from diagrams) (3.1.4)\n",
      "Requirement already satisfied: MarkupSafe>=2.0 in /opt/anaconda3/lib/python3.12/site-packages (from jinja2<4.0,>=2.10->diagrams) (2.1.3)\n",
      "Downloading diagrams-0.24.1-py3-none-any.whl (25.1 MB)\n",
      "\u001b[2K   \u001b[90m━━━━━━━━━━━━━━━━━━━━━━━━━━━━━━━━━━━━━━━━\u001b[0m \u001b[32m25.1/25.1 MB\u001b[0m \u001b[31m42.2 MB/s\u001b[0m eta \u001b[36m0:00:00\u001b[0m00:01\u001b[0m00:01\u001b[0m\n",
      "\u001b[?25hDownloading graphviz-0.20.3-py3-none-any.whl (47 kB)\n",
      "Installing collected packages: graphviz, diagrams\n",
      "Successfully installed diagrams-0.24.1 graphviz-0.20.3\n",
      "\n",
      "\u001b[1m[\u001b[0m\u001b[34;49mnotice\u001b[0m\u001b[1;39;49m]\u001b[0m\u001b[39;49m A new release of pip is available: \u001b[0m\u001b[31;49m24.2\u001b[0m\u001b[39;49m -> \u001b[0m\u001b[32;49m24.3.1\u001b[0m\n",
      "\u001b[1m[\u001b[0m\u001b[34;49mnotice\u001b[0m\u001b[1;39;49m]\u001b[0m\u001b[39;49m To update, run: \u001b[0m\u001b[32;49m/opt/anaconda3/bin/python -m pip install --upgrade pip\u001b[0m\n",
      "Note: you may need to restart the kernel to use updated packages.\n"
     ]
    }
   ],
   "source": [
    "pip install diagrams"
   ]
  },
  {
   "cell_type": "code",
   "execution_count": 63,
   "id": "5c17fcc6-c4a2-4ee8-8450-4dac31ecadd2",
   "metadata": {},
   "outputs": [
    {
     "name": "stderr",
     "output_type": "stream",
     "text": [
      "python(87506) MallocStackLogging: can't turn off malloc stack logging because it was not enabled.\n"
     ]
    }
   ],
   "source": [
    "from diagrams import Diagram, Edge, Cluster \n",
    "from diagrams.aws.storage import S3 \n",
    "from diagrams.saas.analytics import Snowflake\n",
    "from diagrams.onprem.workflow import Airflow \n",
    "from diagrams.programming.framework import FastAPI \n",
    "from diagrams.custom import Custom \n",
    "from diagrams.onprem.client import Users\n",
    "\n",
    "\n",
    "# Define nodes for data sources and external components\n",
    "with Diagram(\"Airflow Pipeline\", show=False):\n",
    "\n",
    "    \n",
    "    pdf = Custom(\"PDF Documents\", \"./images/pdfs.png\")\n",
    "    unstructured    = Custom(\"Unstructured\\n Parsing Markdown file\", \"./images/Unstructured.png\")\n",
    "    s3_storage = S3(\"AWS S3\\n(Download PDFs)\")\n",
    "    pinecone = Custom(\"Pinecone\\nVector Database\", \"./images/pinecone.png\")\n",
    "    docling = Custom(\"Docling Parser\", \"./images/docling.png\")\n",
    "    extracted_text  = Custom(\"Text\", \"./images/Text.png\")\n",
    "    extracted_image = Custom(\"Images, Tables\", \"./images/PNG.png\")\n",
    "    openai_1 = Custom(\"OpenAI\\n(Image Summarization)\", \"./images/OpenAI.png\")\n",
    "    openai_2 = Custom(\"OpenAI Embeddings\", \"./images/OpenAI.png\")\n",
    "    \n",
    "\n",
    "    with Cluster(\"Document Processing Pipeline\"):\n",
    "        s3_storage >> Edge(label=\"Download PDFs\") >> pdf\n",
    "        pdf >> Edge(label=\"Parse\") >> docling\n",
    "        docling >> Edge(label = \"Text\") >> extracted_text >> Edge(label=\"Export as MD\") >> unstructured\n",
    "        docling >> Edge(label=\"Images\") >> extracted_image >> Edge(label=\"Image Summaries\") >> openai_1 >> Edge(label=\"Embeddings\") >> openai_2 >> Edge(label=\"Store into \\nVector Database\") >> pinecone \n",
    "        unstructured >> Edge(label=\"Embeddings\") >> openai_2 >> Edge(label=\"Store into \\nVector Database\") >> pinecone \n",
    "        "
   ]
  },
  {
   "cell_type": "code",
   "execution_count": 25,
   "id": "e69bf25a-97e0-4f3b-a95a-e378ad51910d",
   "metadata": {},
   "outputs": [
    {
     "name": "stdout",
     "output_type": "stream",
     "text": [
      "\u001b[34m.\u001b[m\u001b[m\n",
      "\u001b[34m..\u001b[m\u001b[m\n",
      ".DS_Store\n",
      "\u001b[34m.ipynb_checkpoints\u001b[m\u001b[m\n",
      "Untitled.ipynb\n",
      "airflow_pipeline.png\n",
      "airflow_pipeline_-_document_parsing_and_vector_storage.png\n",
      "\u001b[34mimages\u001b[m\u001b[m\n"
     ]
    }
   ],
   "source": [
    "!ls -a"
   ]
  }
 ],
 "metadata": {
  "kernelspec": {
   "display_name": "Python 3 (ipykernel)",
   "language": "python",
   "name": "python3"
  },
  "language_info": {
   "codemirror_mode": {
    "name": "ipython",
    "version": 3
   },
   "file_extension": ".py",
   "mimetype": "text/x-python",
   "name": "python",
   "nbconvert_exporter": "python",
   "pygments_lexer": "ipython3",
   "version": "3.12.4"
  }
 },
 "nbformat": 4,
 "nbformat_minor": 5
}
